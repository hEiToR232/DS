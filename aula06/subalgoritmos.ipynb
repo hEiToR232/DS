{
 "cells": [
  {
   "cell_type": "markdown",
   "metadata": {},
   "source": [
    "## Subalgoritmos\n",
    "#### Função - Executa uma rotina que retorna um valor\n",
    "#### Procedimento - Executa uma rotina que NÃO retorna  valor"
   ]
  },
  {
   "cell_type": "markdown",
   "metadata": {},
   "source": [
    "<b>Sintaxe:</b>\n",
    "```python\n",
    "def nome_subalgoritmo(parâmetros) -> retorno:\n",
    "    corpo do subalgoritmo\n",
    "    return valor # caso seja função    "
   ]
  },
  {
   "cell_type": "markdown",
   "metadata": {},
   "source": [
    "# <b>Função</b>"
   ]
  },
  {
   "cell_type": "code",
   "execution_count": null,
   "metadata": {},
   "outputs": [
    {
     "data": {
      "text/plain": [
       "144\n",
       "30\n"
      ]
     },
     "metadata": {},
     "output_type": "display_data"
    }
   ],
   "source": [
    "def soma2numeros(n1: float, n2: float) -> float:\n",
    "    resultado = n1 + n2\n",
    "    return resultado # return só em função\n",
    "\n",
    "x = soma2numeros(56,88)\n",
    "print(x)\n",
    "print(soma2numeros(10,20))"
   ]
  },
  {
   "cell_type": "markdown",
   "metadata": {},
   "source": [
    "# <b>Procedimento</b>"
   ]
  },
  {
   "cell_type": "markdown",
   "metadata": {},
   "source": [
    "##### Exibir uma saudacao"
   ]
  },
  {
   "cell_type": "code",
   "execution_count": null,
   "metadata": {},
   "outputs": [
    {
     "data": {
      "text/plain": [
       "Bom dia aluno\n"
      ]
     },
     "metadata": {},
     "output_type": "display_data"
    }
   ],
   "source": [
    "def saudacao() -> None:\n",
    "    print(\"Bom dia aluno\")\n",
    "\n",
    "# Chamada do procedimento\n",
    "saudacao()"
   ]
  },
  {
   "cell_type": "markdown",
   "metadata": {},
   "source": [
    "#### Exibir uma saudacao com parâmetro"
   ]
  },
  {
   "cell_type": "code",
   "execution_count": null,
   "metadata": {},
   "outputs": [
    {
     "data": {
      "text/plain": [
       "Bom dia Edson\n"
      ]
     },
     "metadata": {},
     "output_type": "display_data"
    }
   ],
   "source": [
    "def saudacao2(aluno: str) -> None:\n",
    "    print(f\"Bom dia {aluno}\")\n",
    "\n",
    "# Chamada do procedimento\n",
    "saudacao2(\"Edson\")\n"
   ]
  },
  {
   "cell_type": "markdown",
   "metadata": {},
   "source": [
    "#### Exibir uma saudacao com 2 parâmetros"
   ]
  },
  {
   "cell_type": "code",
   "execution_count": null,
   "metadata": {},
   "outputs": [
    {
     "data": {
      "text/plain": [
       "Boa noite Maria\n"
      ]
     },
     "metadata": {},
     "output_type": "display_data"
    }
   ],
   "source": [
    "def saudacao3(aluno: str, hora: int) -> None:\n",
    "    if hora < 12:\n",
    "        msg = \"Bom dia\"\n",
    "    elif hora < 18:\n",
    "        msg = \"Boa tarde\"\n",
    "    else:\n",
    "        msg = \"Boa noite\"\n",
    "    \n",
    "    print(f\"{msg} {aluno}\")\n",
    "\n",
    "# Chamada do procedimento\n",
    "saudacao3(\"Maria\", 19)"
   ]
  }
 ],
 "metadata": {
  "language_info": {
   "name": "python"
  }
 },
 "nbformat": 4,
 "nbformat_minor": 2
}
